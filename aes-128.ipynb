{
 "cells": [
  {
   "cell_type": "code",
   "execution_count": 2,
   "metadata": {},
   "outputs": [],
   "source": [
    "sbox = [\n",
    "        0x63, 0x7c, 0x77, 0x7b, 0xf2, 0x6b, 0x6f, 0xc5, 0x30, 0x01, 0x67, 0x2b, 0xfe, 0xd7, 0xab, 0x76,\n",
    "        0xca, 0x82, 0xc9, 0x7d, 0xfa, 0x59, 0x47, 0xf0, 0xad, 0xd4, 0xa2, 0xaf, 0x9c, 0xa4, 0x72, 0xc0,\n",
    "        0xb7, 0xfd, 0x93, 0x26, 0x36, 0x3f, 0xf7, 0xcc, 0x34, 0xa5, 0xe5, 0xf1, 0x71, 0xd8, 0x31, 0x15,\n",
    "        0x04, 0xc7, 0x23, 0xc3, 0x18, 0x96, 0x05, 0x9a, 0x07, 0x12, 0x80, 0xe2, 0xeb, 0x27, 0xb2, 0x75,\n",
    "        0x09, 0x83, 0x2c, 0x1a, 0x1b, 0x6e, 0x5a, 0xa0, 0x52, 0x3b, 0xd6, 0xb3, 0x29, 0xe3, 0x2f, 0x84,\n",
    "        0x53, 0xd1, 0x00, 0xed, 0x20, 0xfc, 0xb1, 0x5b, 0x6a, 0xcb, 0xbe, 0x39, 0x4a, 0x4c, 0x58, 0xcf,\n",
    "        0xd0, 0xef, 0xaa, 0xfb, 0x43, 0x4d, 0x33, 0x85, 0x45, 0xf9, 0x02, 0x7f, 0x50, 0x3c, 0x9f, 0xa8,\n",
    "        0x51, 0xa3, 0x40, 0x8f, 0x92, 0x9d, 0x38, 0xf5, 0xbc, 0xb6, 0xda, 0x21, 0x10, 0xff, 0xf3, 0xd2,\n",
    "        0xcd, 0x0c, 0x13, 0xec, 0x5f, 0x97, 0x44, 0x17, 0xc4, 0xa7, 0x7e, 0x3d, 0x64, 0x5d, 0x19, 0x73,\n",
    "        0x60, 0x81, 0x4f, 0xdc, 0x22, 0x2a, 0x90, 0x88, 0x46, 0xee, 0xb8, 0x14, 0xde, 0x5e, 0x0b, 0xdb,\n",
    "        0xe0, 0x32, 0x3a, 0x0a, 0x49, 0x06, 0x24, 0x5c, 0xc2, 0xd3, 0xac, 0x62, 0x91, 0x95, 0xe4, 0x79,\n",
    "        0xe7, 0xc8, 0x37, 0x6d, 0x8d, 0xd5, 0x4e, 0xa9, 0x6c, 0x56, 0xf4, 0xea, 0x65, 0x7a, 0xae, 0x08,\n",
    "        0xba, 0x78, 0x25, 0x2e, 0x1c, 0xa6, 0xb4, 0xc6, 0xe8, 0xdd, 0x74, 0x1f, 0x4b, 0xbd, 0x8b, 0x8a,\n",
    "        0x70, 0x3e, 0xb5, 0x66, 0x48, 0x03, 0xf6, 0x0e, 0x61, 0x35, 0x57, 0xb9, 0x86, 0xc1, 0x1d, 0x9e,\n",
    "        0xe1, 0xf8, 0x98, 0x11, 0x69, 0xd9, 0x8e, 0x94, 0x9b, 0x1e, 0x87, 0xe9, 0xce, 0x55, 0x28, 0xdf,\n",
    "        0x8c, 0xa1, 0x89, 0x0d, 0xbf, 0xe6, 0x42, 0x68, 0x41, 0x99, 0x2d, 0x0f, 0xb0, 0x54, 0xbb, 0x16\n",
    "]"
   ]
  },
  {
   "cell_type": "code",
   "execution_count": 3,
   "metadata": {},
   "outputs": [
    {
     "name": "stdout",
     "output_type": "stream",
     "text": [
      "256\n"
     ]
    }
   ],
   "source": [
    "print(len(sbox))"
   ]
  },
  {
   "cell_type": "code",
   "execution_count": 4,
   "metadata": {},
   "outputs": [],
   "source": [
    "# def encode_hex(text):\n",
    "#     enc = text.encode(encoding=\"ascii\")\n",
    "#     return enc.hex()\n",
    "\n",
    "def encode_hex(text):\n",
    "    text = [i for i in text]                # split tiap 1 char\n",
    "    temp = []\n",
    "    for i in text:\n",
    "        enc = i.encode(encoding=\"ascii\").hex()\n",
    "        temp.append(enc)\n",
    "    return cek_jumlah_karakter(temp)\n",
    "\n",
    "\n",
    "def cek_jumlah_karakter(text):\n",
    "    # if len(text) > 16:\n",
    "    #     print('masukan max 16 karakter')\n",
    "    # text = list(text)\n",
    "    while len(text) < 16:\n",
    "        text.append('00')\n",
    "    # print(f'setelah while: {text}')\n",
    "    return text"
   ]
  },
  {
   "cell_type": "code",
   "execution_count": 5,
   "metadata": {},
   "outputs": [
    {
     "name": "stdout",
     "output_type": "stream",
     "text": [
      "Two One Nine Two\n",
      "Plain Karakter: 16\n",
      "plain hex \t: ['54', '77', '6f', '20', '4f', '6e', '65', '20', '4e', '69', '6e', '65', '20', '54', '77', '6f']\n",
      "plain hex \t: 16\n",
      "\n",
      "Thats my Kung Fu\n",
      "Key karakter: 16\n",
      "key hex \t: ['54', '68', '61', '74', '73', '20', '6d', '79', '20', '4b', '75', '6e', '67', '20', '46', '75']\n",
      "len key hex \t: 16\n"
     ]
    }
   ],
   "source": [
    "# Input (plaintext)\n",
    "\n",
    "# contoh Plaintext:\n",
    "# Two One Nine Two\n",
    "plain = input('input text: ')\n",
    "print(plain)\n",
    "print(f'Plain Karakter: {len(plain)}')\n",
    "plain_hex = encode_hex(plain)\n",
    "print(f'plain hex \\t: {plain_hex}')\n",
    "print(f'plain hex \\t: {len(plain_hex)}')\n",
    "print()\n",
    "\n",
    "\n",
    "# contoh key:\n",
    "# Thats my Kung Fu\n",
    "key = input('input key: ')\n",
    "print(key)\n",
    "print(f'Key karakter: {len(key)}')\n",
    "key_hex = encode_hex(key)\n",
    "print(f'key hex \\t: {key_hex}')\n",
    "print(f'len key hex \\t: {len(key_hex)}')\n"
   ]
  },
  {
   "cell_type": "code",
   "execution_count": 6,
   "metadata": {},
   "outputs": [],
   "source": [
    "# split tiap 2 karakter\n",
    "# agar menjadi 16 blocks\n",
    "# ex: 546d61 -> '54', '6d', '61'\n"
   ]
  },
  {
   "cell_type": "code",
   "execution_count": 7,
   "metadata": {},
   "outputs": [],
   "source": [
    "# convert menjadi matriks 4x4\n",
    "\n",
    "def matriks(mat):\n",
    "    matriks = []\n",
    "    for i in range(4):\n",
    "        four_matriks = mat[i*4: i*4+4]\n",
    "        matriks.append(four_matriks)\n",
    "    return matriks"
   ]
  },
  {
   "cell_type": "code",
   "execution_count": 8,
   "metadata": {},
   "outputs": [
    {
     "data": {
      "text/plain": [
       "[['54', '77', '6f', '20'],\n",
       " ['4f', '6e', '65', '20'],\n",
       " ['4e', '69', '6e', '65'],\n",
       " ['20', '54', '77', '6f']]"
      ]
     },
     "execution_count": 8,
     "metadata": {},
     "output_type": "execute_result"
    }
   ],
   "source": [
    "matriks(plain_hex)"
   ]
  },
  {
   "cell_type": "code",
   "execution_count": 9,
   "metadata": {},
   "outputs": [
    {
     "data": {
      "text/plain": [
       "[['54', '68', '61', '74'],\n",
       " ['73', '20', '6d', '79'],\n",
       " ['20', '4b', '75', '6e'],\n",
       " ['67', '20', '46', '75']]"
      ]
     },
     "execution_count": 9,
     "metadata": {},
     "output_type": "execute_result"
    }
   ],
   "source": [
    "matriks(key_hex)"
   ]
  },
  {
   "cell_type": "markdown",
   "metadata": {},
   "source": [
    "Add Round Key - 0"
   ]
  },
  {
   "cell_type": "code",
   "execution_count": 10,
   "metadata": {},
   "outputs": [
    {
     "name": "stdout",
     "output_type": "stream",
     "text": [
      "9\n",
      "105\n",
      "9\n",
      "75\n",
      "0x22\n"
     ]
    }
   ],
   "source": [
    "# XOR plain-hex dengan key-hex\n",
    "# DASAR:\n",
    "\n",
    "print(plain_hex.index('69'))\n",
    "p1 = plain_hex[9]\n",
    "p1 = int(p1, base=16)\n",
    "print(p1)\n",
    "\n",
    "print(key_hex.index('4b'))\n",
    "k1 = key_hex[9]\n",
    "k1 = int(k1, base=16)\n",
    "print(k1)\n",
    "\n",
    "xor_round = p1 ^ k1\n",
    "xor_round = hex(xor_round)\n",
    "print(xor_round)"
   ]
  },
  {
   "cell_type": "code",
   "execution_count": 11,
   "metadata": {},
   "outputs": [
    {
     "name": "stdout",
     "output_type": "stream",
     "text": [
      "[84, 119, 111, 32, 79, 110, 101, 32, 78, 105, 110, 101, 32, 84, 119, 111]\n",
      "[84, 104, 97, 116, 115, 32, 109, 121, 32, 75, 117, 110, 103, 32, 70, 117]\n",
      "[0, 31, 14, 84, 60, 78, 8, 89, 110, 34, 27, 11, 71, 116, 49, 26]\n"
     ]
    }
   ],
   "source": [
    "# convert hex ke int\n",
    "plain_to_int = []\n",
    "key_to_int = []\n",
    "hasil_xor = []\n",
    "for i in range(16):\n",
    "    plain_to_int.append(int(plain_hex[i], base=16))\n",
    "    key_to_int.append(int(key_hex[i], base=16))\n",
    "\n",
    "print(plain_to_int)\n",
    "print(key_to_int)\n",
    "\n",
    "# xor tiap index (plain dgn key)\n",
    "for i in range(16):\n",
    "    # hasil_xor.append(hex(plain_to_int[i] ^ key_to_int[i]))\n",
    "    hasil_xor.append(plain_to_int[i] ^ key_to_int[i])\n",
    "\n",
    "print(hasil_xor)"
   ]
  },
  {
   "cell_type": "code",
   "execution_count": 12,
   "metadata": {},
   "outputs": [],
   "source": [
    "# tinggal buat fungsi\n",
    "# def add_round_key(list1, list2):\n",
    "    "
   ]
  },
  {
   "cell_type": "code",
   "execution_count": null,
   "metadata": {},
   "outputs": [],
   "source": []
  },
  {
   "cell_type": "code",
   "execution_count": null,
   "metadata": {},
   "outputs": [],
   "source": []
  },
  {
   "cell_type": "code",
   "execution_count": 13,
   "metadata": {},
   "outputs": [
    {
     "name": "stdout",
     "output_type": "stream",
     "text": [
      "2970619905\n",
      "<class 'int'>\n",
      "2969571345\n",
      "<class 'int'>\n",
      "t3_xor: 1048592\n",
      "<class 'int'>\n",
      "0b100000000000000010000\n",
      "<class 'str'>\n",
      "0b100010\n"
     ]
    }
   ],
   "source": [
    "# XOR plain-hex dengan key-hex (dalam binary)\n",
    "# tidak terpakai (untung pengetahuan aja)\n",
    "def convert_to_bin(e) -> str: \n",
    "    e = bin(int(e, base=16)).zfill(8)\n",
    "    return e\n",
    "\n",
    "\n",
    "t1 = convert_to_bin('69')\n",
    "t1 = int(t1, base=16)\n",
    "print(t1)\n",
    "print(type(t1))\n",
    "t2 = convert_to_bin('4B')\n",
    "t2 = int(t2, base=16)\n",
    "print(t2)\n",
    "print(type(t2))\n",
    "\n",
    "t3_xor = t1 ^ t2\n",
    "print(f't3_xor: {t3_xor}')\n",
    "print(type(t3_xor))\n",
    "\n",
    "t3_xor_bin = bin(t3_xor)\n",
    "print(t3_xor_bin)\n",
    "print(type(t3_xor_bin))\n",
    "\n",
    "t4 = convert_to_bin('22')\n",
    "# t4 = int(t4, base=16)\n",
    "print(t4)\n",
    "\n",
    "\n",
    "# 0100\n",
    "# 0011\n",
    "# -----xor\n",
    "# 0111 --> 7\n",
    "\n"
   ]
  },
  {
   "cell_type": "code",
   "execution_count": 14,
   "metadata": {},
   "outputs": [
    {
     "name": "stdout",
     "output_type": "stream",
     "text": [
      "105\n",
      "0x69\n",
      "<class 'str'>\n",
      "32\n",
      "<class 'int'>\n"
     ]
    }
   ],
   "source": [
    "p = '0x69'\n",
    "str_to_int = int(p, base=16)\n",
    "print(str_to_int)\n",
    "int_to_str = hex(str_to_int)\n",
    "print(int_to_str)\n",
    "print(type(int_to_str))\n",
    "\n",
    "hx = 0x20\n",
    "print(hx)\n",
    "print(type(hx))"
   ]
  },
  {
   "cell_type": "markdown",
   "metadata": {},
   "source": [
    "Sub Byte"
   ]
  },
  {
   "cell_type": "code",
   "execution_count": 15,
   "metadata": {},
   "outputs": [
    {
     "name": "stdout",
     "output_type": "stream",
     "text": [
      "[0, 31, 14, 84, 60, 78, 8, 89, 110, 34, 27, 11, 71, 116, 49, 26]\n",
      "[99, 192, 171, 32, 235, 47, 48, 203, 159, 147, 175, 43, 160, 146, 199, 162]\n",
      "['63', 'c0', 'ab', '20', 'eb', '2f', '30', 'cb', '9f', '93', 'af', '2b', 'a0', '92', 'c7', 'a2']\n"
     ]
    }
   ],
   "source": [
    "# hasil_xor pada langkah-1 (add_round_key pertama)\n",
    "# [0, 31, 14, 84, 60, 78, 8, 89, 110, 34, 27, 11, 71, 116, 49, 26]\n",
    "\n",
    "temp = []\n",
    "hasil_xor2 = hasil_xor\n",
    "print(hasil_xor2)\n",
    "\n",
    "for i in range(16):\n",
    "    # hasil_xor2[i] = sbox[hasil_xor2[i]]\n",
    "    # temp.append(hasil_xor2[i])\n",
    "    temp.append(sbox[hasil_xor2[i]])\n",
    "print(temp)\n",
    "\n",
    "to_hex = [hex(x)[2:] for x in temp]\n",
    "print(to_hex)"
   ]
  },
  {
   "cell_type": "code",
   "execution_count": 16,
   "metadata": {},
   "outputs": [
    {
     "data": {
      "text/plain": [
       "[['63', 'c0', 'ab', '20'],\n",
       " ['eb', '2f', '30', 'cb'],\n",
       " ['9f', '93', 'af', '2b'],\n",
       " ['a0', '92', 'c7', 'a2']]"
      ]
     },
     "execution_count": 16,
     "metadata": {},
     "output_type": "execute_result"
    }
   ],
   "source": [
    "matriks(to_hex)"
   ]
  },
  {
   "cell_type": "markdown",
   "metadata": {},
   "source": [
    "Shift Row"
   ]
  },
  {
   "cell_type": "code",
   "execution_count": 17,
   "metadata": {},
   "outputs": [
    {
     "name": "stdout",
     "output_type": "stream",
     "text": [
      "[1, 2, 3]\n",
      "[5, 6, 4]\n",
      "[9, 7, 8]\n"
     ]
    }
   ],
   "source": [
    "matriks = [\n",
    "    [1, 2, 3],\n",
    "    [4, 5, 6],\n",
    "    [7, 8, 9],\n",
    "]\n",
    "\n",
    "\n",
    "def shift_row(mat):\n",
    "    mat[1] = [mat[1][1], mat[1][2], mat[1][0]]\n",
    "    mat[2] = [mat[2][2], mat[2][0], mat[2][1]]\n",
    "    shift = mat\n",
    "    return shift\n",
    "\n",
    "\n",
    "shifting = shift_row(matriks)\n",
    "# print(shift_row(matriks)[0])\n",
    "for row in shifting:\n",
    "    print(row)\n"
   ]
  }
 ],
 "metadata": {
  "kernelspec": {
   "display_name": ".venv",
   "language": "python",
   "name": "python3"
  },
  "language_info": {
   "codemirror_mode": {
    "name": "ipython",
    "version": 3
   },
   "file_extension": ".py",
   "mimetype": "text/x-python",
   "name": "python",
   "nbconvert_exporter": "python",
   "pygments_lexer": "ipython3",
   "version": "3.11.5"
  }
 },
 "nbformat": 4,
 "nbformat_minor": 2
}
